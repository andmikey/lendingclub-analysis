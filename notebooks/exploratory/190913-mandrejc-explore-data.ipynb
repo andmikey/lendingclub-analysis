{
 "cells": [
  {
   "cell_type": "markdown",
   "metadata": {},
   "source": [
    "# Data exploration"
   ]
  },
  {
   "cell_type": "code",
   "execution_count": 1,
   "metadata": {},
   "outputs": [],
   "source": [
    "import pandas as pd\n",
    "from src.data import clean_dataset\n",
    "import seaborn as sns\n",
    "import matplotlib.pyplot as plt\n",
    "import numpy as np"
   ]
  },
  {
   "cell_type": "markdown",
   "metadata": {},
   "source": [
    "Before we start, we can use the data cleaning steps from our previous notebook to clean up and prepare the data for analysis."
   ]
  },
  {
   "cell_type": "code",
   "execution_count": 2,
   "metadata": {},
   "outputs": [],
   "source": [
    "df_no_types = pd.read_csv(\"../../data/processed/cleaned-loan_sampled_50000.csv\", low_memory = False)\n",
    "df = clean_dataset.fix_dtypes(df_no_types)"
   ]
  },
  {
   "cell_type": "code",
   "execution_count": 3,
   "metadata": {},
   "outputs": [
    {
     "data": {
      "text/html": [
       "<div>\n",
       "<style scoped>\n",
       "    .dataframe tbody tr th:only-of-type {\n",
       "        vertical-align: middle;\n",
       "    }\n",
       "\n",
       "    .dataframe tbody tr th {\n",
       "        vertical-align: top;\n",
       "    }\n",
       "\n",
       "    .dataframe thead th {\n",
       "        text-align: right;\n",
       "    }\n",
       "</style>\n",
       "<table border=\"1\" class=\"dataframe\">\n",
       "  <thead>\n",
       "    <tr style=\"text-align: right;\">\n",
       "      <th></th>\n",
       "      <th>loan_amnt</th>\n",
       "      <th>int_rate</th>\n",
       "      <th>installment</th>\n",
       "      <th>grade</th>\n",
       "      <th>sub_grade</th>\n",
       "      <th>emp_length</th>\n",
       "      <th>home_ownership</th>\n",
       "      <th>annual_inc</th>\n",
       "      <th>verification_status</th>\n",
       "      <th>issue_d</th>\n",
       "      <th>...</th>\n",
       "      <th>has_recent_bc_dlq</th>\n",
       "      <th>has_major_derog</th>\n",
       "      <th>has_recent_revol_delinq</th>\n",
       "      <th>has_recent_delinq</th>\n",
       "      <th>is_payment_plan</th>\n",
       "      <th>is_whole_loan</th>\n",
       "      <th>is_individual_app</th>\n",
       "      <th>is_36_month_term</th>\n",
       "      <th>term_months</th>\n",
       "      <th>is_cash</th>\n",
       "    </tr>\n",
       "  </thead>\n",
       "  <tbody>\n",
       "    <tr>\n",
       "      <th>0</th>\n",
       "      <td>6200</td>\n",
       "      <td>10.41</td>\n",
       "      <td>201.26</td>\n",
       "      <td>B</td>\n",
       "      <td>B3</td>\n",
       "      <td>1.0</td>\n",
       "      <td>RENT</td>\n",
       "      <td>62000.0</td>\n",
       "      <td>Not Verified</td>\n",
       "      <td>2018-03-01</td>\n",
       "      <td>...</td>\n",
       "      <td>False</td>\n",
       "      <td>False</td>\n",
       "      <td>False</td>\n",
       "      <td>False</td>\n",
       "      <td>False</td>\n",
       "      <td>True</td>\n",
       "      <td>True</td>\n",
       "      <td>False</td>\n",
       "      <td>36</td>\n",
       "      <td>True</td>\n",
       "    </tr>\n",
       "    <tr>\n",
       "      <th>1</th>\n",
       "      <td>19600</td>\n",
       "      <td>25.69</td>\n",
       "      <td>583.25</td>\n",
       "      <td>F</td>\n",
       "      <td>F1</td>\n",
       "      <td>9.0</td>\n",
       "      <td>MORTGAGE</td>\n",
       "      <td>110000.0</td>\n",
       "      <td>Source Verified</td>\n",
       "      <td>2016-10-01</td>\n",
       "      <td>...</td>\n",
       "      <td>False</td>\n",
       "      <td>False</td>\n",
       "      <td>False</td>\n",
       "      <td>False</td>\n",
       "      <td>False</td>\n",
       "      <td>False</td>\n",
       "      <td>True</td>\n",
       "      <td>False</td>\n",
       "      <td>60</td>\n",
       "      <td>True</td>\n",
       "    </tr>\n",
       "    <tr>\n",
       "      <th>2</th>\n",
       "      <td>16000</td>\n",
       "      <td>11.99</td>\n",
       "      <td>355.84</td>\n",
       "      <td>C</td>\n",
       "      <td>C1</td>\n",
       "      <td>1.0</td>\n",
       "      <td>MORTGAGE</td>\n",
       "      <td>60000.0</td>\n",
       "      <td>Not Verified</td>\n",
       "      <td>2015-12-01</td>\n",
       "      <td>...</td>\n",
       "      <td>False</td>\n",
       "      <td>False</td>\n",
       "      <td>True</td>\n",
       "      <td>True</td>\n",
       "      <td>False</td>\n",
       "      <td>True</td>\n",
       "      <td>True</td>\n",
       "      <td>False</td>\n",
       "      <td>60</td>\n",
       "      <td>True</td>\n",
       "    </tr>\n",
       "    <tr>\n",
       "      <th>3</th>\n",
       "      <td>16400</td>\n",
       "      <td>15.77</td>\n",
       "      <td>574.72</td>\n",
       "      <td>D</td>\n",
       "      <td>D1</td>\n",
       "      <td>3.0</td>\n",
       "      <td>MORTGAGE</td>\n",
       "      <td>41000.0</td>\n",
       "      <td>Not Verified</td>\n",
       "      <td>2015-12-01</td>\n",
       "      <td>...</td>\n",
       "      <td>True</td>\n",
       "      <td>True</td>\n",
       "      <td>True</td>\n",
       "      <td>True</td>\n",
       "      <td>False</td>\n",
       "      <td>True</td>\n",
       "      <td>True</td>\n",
       "      <td>False</td>\n",
       "      <td>36</td>\n",
       "      <td>True</td>\n",
       "    </tr>\n",
       "    <tr>\n",
       "      <th>4</th>\n",
       "      <td>7100</td>\n",
       "      <td>14.49</td>\n",
       "      <td>244.36</td>\n",
       "      <td>C</td>\n",
       "      <td>C4</td>\n",
       "      <td>2.0</td>\n",
       "      <td>RENT</td>\n",
       "      <td>24000.0</td>\n",
       "      <td>Source Verified</td>\n",
       "      <td>2014-10-01</td>\n",
       "      <td>...</td>\n",
       "      <td>False</td>\n",
       "      <td>False</td>\n",
       "      <td>False</td>\n",
       "      <td>False</td>\n",
       "      <td>False</td>\n",
       "      <td>False</td>\n",
       "      <td>True</td>\n",
       "      <td>False</td>\n",
       "      <td>36</td>\n",
       "      <td>True</td>\n",
       "    </tr>\n",
       "  </tbody>\n",
       "</table>\n",
       "<p>5 rows × 87 columns</p>\n",
       "</div>"
      ],
      "text/plain": [
       "   loan_amnt  int_rate  installment grade sub_grade  emp_length  \\\n",
       "0       6200     10.41       201.26     B        B3         1.0   \n",
       "1      19600     25.69       583.25     F        F1         9.0   \n",
       "2      16000     11.99       355.84     C        C1         1.0   \n",
       "3      16400     15.77       574.72     D        D1         3.0   \n",
       "4       7100     14.49       244.36     C        C4         2.0   \n",
       "\n",
       "  home_ownership  annual_inc verification_status    issue_d   ...     \\\n",
       "0           RENT     62000.0        Not Verified 2018-03-01   ...      \n",
       "1       MORTGAGE    110000.0     Source Verified 2016-10-01   ...      \n",
       "2       MORTGAGE     60000.0        Not Verified 2015-12-01   ...      \n",
       "3       MORTGAGE     41000.0        Not Verified 2015-12-01   ...      \n",
       "4           RENT     24000.0     Source Verified 2014-10-01   ...      \n",
       "\n",
       "  has_recent_bc_dlq has_major_derog  has_recent_revol_delinq  \\\n",
       "0             False           False                    False   \n",
       "1             False           False                    False   \n",
       "2             False           False                     True   \n",
       "3              True            True                     True   \n",
       "4             False           False                    False   \n",
       "\n",
       "   has_recent_delinq is_payment_plan  is_whole_loan  is_individual_app  \\\n",
       "0              False           False           True               True   \n",
       "1              False           False          False               True   \n",
       "2               True           False           True               True   \n",
       "3               True           False           True               True   \n",
       "4              False           False          False               True   \n",
       "\n",
       "   is_36_month_term  term_months  is_cash  \n",
       "0             False           36     True  \n",
       "1             False           60     True  \n",
       "2             False           60     True  \n",
       "3             False           36     True  \n",
       "4             False           36     True  \n",
       "\n",
       "[5 rows x 87 columns]"
      ]
     },
     "execution_count": 3,
     "metadata": {},
     "output_type": "execute_result"
    }
   ],
   "source": [
    "df.head()"
   ]
  },
  {
   "cell_type": "markdown",
   "metadata": {},
   "source": [
    "## Outlier removal\n",
    " \n",
    "Let's go through the dataset and remove rows that contain unreasonable values. We can either delete these rows or fill the values with something more reasonable. We'll go through all the columns with numeric values but, for brevity, only show in this notebook what we do with the columns that have outliers. Removing outliers will allow us to do data normalisation later. \n",
    "\n",
    "We list below the columns that contain outlier values (as seen by visual inspection of their distribution's histogram) and show an example of a histogram."
   ]
  },
  {
   "cell_type": "code",
   "execution_count": 4,
   "metadata": {},
   "outputs": [
    {
     "data": {
      "text/plain": [
       "<matplotlib.axes._subplots.AxesSubplot at 0x7f935d21b7f0>"
      ]
     },
     "execution_count": 4,
     "metadata": {},
     "output_type": "execute_result"
    },
    {
     "data": {
      "image/png": "[encoded data removed]",
      "text/plain": [
       "<matplotlib.figure.Figure at 0x7f93a0d2c9b0>"
      ]
     },
     "metadata": {},
     "output_type": "display_data"
    }
   ],
   "source": [
    "to_explore = [\"annual_inc\", \"revol_bal\", \"tot_cur_bal\", \"total_bal_il\", \"max_bal_bc\",\n",
    "             \"total_rev_hi_lim\", \"avg_cur_bal\", \"bc_open_to_buy\", \"delinq_amnt\", \"tot_hi_cred_lim\",\n",
    "             \"total_bal_ex_mort\", \"total_bc_limit\", \"total_il_high_credit_limit\"]\n",
    "df[to_explore[0]].plot(kind = \"hist\")"
   ]
  },
  {
   "cell_type": "markdown",
   "metadata": {},
   "source": [
    "Let's get the quantiles of each column. Based on the results, I'd say it's reasonable here to remove rows where the column value exceeds the 0.99 quantile. Dropping from the 0.9 quantile resulted in dropping over 3/4 of the rows! "
   ]
  },
  {
   "cell_type": "code",
   "execution_count": 5,
   "metadata": {},
   "outputs": [
    {
     "data": {
      "text/html": [
       "<div>\n",
       "<style scoped>\n",
       "    .dataframe tbody tr th:only-of-type {\n",
       "        vertical-align: middle;\n",
       "    }\n",
       "\n",
       "    .dataframe tbody tr th {\n",
       "        vertical-align: top;\n",
       "    }\n",
       "\n",
       "    .dataframe thead th {\n",
       "        text-align: right;\n",
       "    }\n",
       "</style>\n",
       "<table border=\"1\" class=\"dataframe\">\n",
       "  <thead>\n",
       "    <tr style=\"text-align: right;\">\n",
       "      <th></th>\n",
       "      <th>annual_inc</th>\n",
       "      <th>revol_bal</th>\n",
       "      <th>tot_cur_bal</th>\n",
       "      <th>total_bal_il</th>\n",
       "      <th>max_bal_bc</th>\n",
       "      <th>total_rev_hi_lim</th>\n",
       "      <th>avg_cur_bal</th>\n",
       "      <th>bc_open_to_buy</th>\n",
       "      <th>delinq_amnt</th>\n",
       "      <th>tot_hi_cred_lim</th>\n",
       "      <th>total_bal_ex_mort</th>\n",
       "      <th>total_bc_limit</th>\n",
       "      <th>total_il_high_credit_limit</th>\n",
       "    </tr>\n",
       "  </thead>\n",
       "  <tbody>\n",
       "    <tr>\n",
       "      <th>count</th>\n",
       "      <td>2.881700e+04</td>\n",
       "      <td>28817.000000</td>\n",
       "      <td>2.881700e+04</td>\n",
       "      <td>28817.000000</td>\n",
       "      <td>28817.000000</td>\n",
       "      <td>28817.000000</td>\n",
       "      <td>28817.000000</td>\n",
       "      <td>28817.000000</td>\n",
       "      <td>28817.000000</td>\n",
       "      <td>2.881700e+04</td>\n",
       "      <td>28817.000000</td>\n",
       "      <td>28817.000000</td>\n",
       "      <td>28817.000000</td>\n",
       "    </tr>\n",
       "    <tr>\n",
       "      <th>mean</th>\n",
       "      <td>7.570673e+04</td>\n",
       "      <td>16073.338862</td>\n",
       "      <td>1.318562e+05</td>\n",
       "      <td>13569.075233</td>\n",
       "      <td>2070.753930</td>\n",
       "      <td>30516.238401</td>\n",
       "      <td>12617.383524</td>\n",
       "      <td>9507.875247</td>\n",
       "      <td>8.227019</td>\n",
       "      <td>1.626677e+05</td>\n",
       "      <td>47394.424888</td>\n",
       "      <td>20609.355346</td>\n",
       "      <td>39565.176007</td>\n",
       "    </tr>\n",
       "    <tr>\n",
       "      <th>std</th>\n",
       "      <td>5.032113e+04</td>\n",
       "      <td>20925.598239</td>\n",
       "      <td>1.523410e+05</td>\n",
       "      <td>31361.124135</td>\n",
       "      <td>4100.661697</td>\n",
       "      <td>31867.608159</td>\n",
       "      <td>15534.586722</td>\n",
       "      <td>14707.974549</td>\n",
       "      <td>539.454439</td>\n",
       "      <td>1.703644e+05</td>\n",
       "      <td>46656.053395</td>\n",
       "      <td>21191.816510</td>\n",
       "      <td>42317.115299</td>\n",
       "    </tr>\n",
       "    <tr>\n",
       "      <th>min</th>\n",
       "      <td>7.200000e+03</td>\n",
       "      <td>0.000000</td>\n",
       "      <td>0.000000e+00</td>\n",
       "      <td>0.000000</td>\n",
       "      <td>0.000000</td>\n",
       "      <td>0.000000</td>\n",
       "      <td>0.000000</td>\n",
       "      <td>0.000000</td>\n",
       "      <td>0.000000</td>\n",
       "      <td>0.000000e+00</td>\n",
       "      <td>0.000000</td>\n",
       "      <td>0.000000</td>\n",
       "      <td>0.000000</td>\n",
       "    </tr>\n",
       "    <tr>\n",
       "      <th>25%</th>\n",
       "      <td>4.600000e+04</td>\n",
       "      <td>5926.000000</td>\n",
       "      <td>2.478500e+04</td>\n",
       "      <td>0.000000</td>\n",
       "      <td>0.000000</td>\n",
       "      <td>12500.000000</td>\n",
       "      <td>2686.000000</td>\n",
       "      <td>1140.000000</td>\n",
       "      <td>0.000000</td>\n",
       "      <td>4.288000e+04</td>\n",
       "      <td>18910.000000</td>\n",
       "      <td>6900.000000</td>\n",
       "      <td>11520.000000</td>\n",
       "    </tr>\n",
       "    <tr>\n",
       "      <th>50%</th>\n",
       "      <td>6.500000e+04</td>\n",
       "      <td>11082.000000</td>\n",
       "      <td>6.808100e+04</td>\n",
       "      <td>0.000000</td>\n",
       "      <td>0.000000</td>\n",
       "      <td>22400.000000</td>\n",
       "      <td>6520.000000</td>\n",
       "      <td>4155.000000</td>\n",
       "      <td>0.000000</td>\n",
       "      <td>9.882900e+04</td>\n",
       "      <td>35595.000000</td>\n",
       "      <td>14200.000000</td>\n",
       "      <td>29403.000000</td>\n",
       "    </tr>\n",
       "    <tr>\n",
       "      <th>75%</th>\n",
       "      <td>9.000000e+04</td>\n",
       "      <td>19455.000000</td>\n",
       "      <td>1.989060e+05</td>\n",
       "      <td>14733.000000</td>\n",
       "      <td>2819.000000</td>\n",
       "      <td>38800.000000</td>\n",
       "      <td>17701.000000</td>\n",
       "      <td>11520.000000</td>\n",
       "      <td>0.000000</td>\n",
       "      <td>2.395860e+05</td>\n",
       "      <td>60379.000000</td>\n",
       "      <td>27000.000000</td>\n",
       "      <td>54076.000000</td>\n",
       "    </tr>\n",
       "    <tr>\n",
       "      <th>max</th>\n",
       "      <td>1.400000e+06</td>\n",
       "      <td>606088.000000</td>\n",
       "      <td>3.652389e+06</td>\n",
       "      <td>585583.000000</td>\n",
       "      <td>60987.000000</td>\n",
       "      <td>793232.000000</td>\n",
       "      <td>255525.000000</td>\n",
       "      <td>217362.000000</td>\n",
       "      <td>65000.000000</td>\n",
       "      <td>3.754640e+06</td>\n",
       "      <td>868585.000000</td>\n",
       "      <td>307300.000000</td>\n",
       "      <td>800000.000000</td>\n",
       "    </tr>\n",
       "  </tbody>\n",
       "</table>\n",
       "</div>"
      ],
      "text/plain": [
       "         annual_inc      revol_bal   tot_cur_bal   total_bal_il    max_bal_bc  \\\n",
       "count  2.881700e+04   28817.000000  2.881700e+04   28817.000000  28817.000000   \n",
       "mean   7.570673e+04   16073.338862  1.318562e+05   13569.075233   2070.753930   \n",
       "std    5.032113e+04   20925.598239  1.523410e+05   31361.124135   4100.661697   \n",
       "min    7.200000e+03       0.000000  0.000000e+00       0.000000      0.000000   \n",
       "25%    4.600000e+04    5926.000000  2.478500e+04       0.000000      0.000000   \n",
       "50%    6.500000e+04   11082.000000  6.808100e+04       0.000000      0.000000   \n",
       "75%    9.000000e+04   19455.000000  1.989060e+05   14733.000000   2819.000000   \n",
       "max    1.400000e+06  606088.000000  3.652389e+06  585583.000000  60987.000000   \n",
       "\n",
       "       total_rev_hi_lim    avg_cur_bal  bc_open_to_buy   delinq_amnt  \\\n",
       "count      28817.000000   28817.000000    28817.000000  28817.000000   \n",
       "mean       30516.238401   12617.383524     9507.875247      8.227019   \n",
       "std        31867.608159   15534.586722    14707.974549    539.454439   \n",
       "min            0.000000       0.000000        0.000000      0.000000   \n",
       "25%        12500.000000    2686.000000     1140.000000      0.000000   \n",
       "50%        22400.000000    6520.000000     4155.000000      0.000000   \n",
       "75%        38800.000000   17701.000000    11520.000000      0.000000   \n",
       "max       793232.000000  255525.000000   217362.000000  65000.000000   \n",
       "\n",
       "       tot_hi_cred_lim  total_bal_ex_mort  total_bc_limit  \\\n",
       "count     2.881700e+04       28817.000000    28817.000000   \n",
       "mean      1.626677e+05       47394.424888    20609.355346   \n",
       "std       1.703644e+05       46656.053395    21191.816510   \n",
       "min       0.000000e+00           0.000000        0.000000   \n",
       "25%       4.288000e+04       18910.000000     6900.000000   \n",
       "50%       9.882900e+04       35595.000000    14200.000000   \n",
       "75%       2.395860e+05       60379.000000    27000.000000   \n",
       "max       3.754640e+06      868585.000000   307300.000000   \n",
       "\n",
       "       total_il_high_credit_limit  \n",
       "count                28817.000000  \n",
       "mean                 39565.176007  \n",
       "std                  42317.115299  \n",
       "min                      0.000000  \n",
       "25%                  11520.000000  \n",
       "50%                  29403.000000  \n",
       "75%                  54076.000000  \n",
       "max                 800000.000000  "
      ]
     },
     "execution_count": 5,
     "metadata": {},
     "output_type": "execute_result"
    }
   ],
   "source": [
    "df[to_explore].describe()"
   ]
  },
  {
   "cell_type": "code",
   "execution_count": 6,
   "metadata": {},
   "outputs": [
    {
     "data": {
      "text/html": [
       "<div>\n",
       "<style scoped>\n",
       "    .dataframe tbody tr th:only-of-type {\n",
       "        vertical-align: middle;\n",
       "    }\n",
       "\n",
       "    .dataframe tbody tr th {\n",
       "        vertical-align: top;\n",
       "    }\n",
       "\n",
       "    .dataframe thead th {\n",
       "        text-align: right;\n",
       "    }\n",
       "</style>\n",
       "<table border=\"1\" class=\"dataframe\">\n",
       "  <thead>\n",
       "    <tr style=\"text-align: right;\">\n",
       "      <th></th>\n",
       "      <th>annual_inc</th>\n",
       "      <th>revol_bal</th>\n",
       "      <th>tot_cur_bal</th>\n",
       "      <th>total_bal_il</th>\n",
       "      <th>max_bal_bc</th>\n",
       "      <th>total_rev_hi_lim</th>\n",
       "      <th>avg_cur_bal</th>\n",
       "      <th>bc_open_to_buy</th>\n",
       "      <th>delinq_amnt</th>\n",
       "      <th>tot_hi_cred_lim</th>\n",
       "      <th>total_bal_ex_mort</th>\n",
       "      <th>total_bc_limit</th>\n",
       "      <th>total_il_high_credit_limit</th>\n",
       "    </tr>\n",
       "  </thead>\n",
       "  <tbody>\n",
       "    <tr>\n",
       "      <th>0.50</th>\n",
       "      <td>65000.0</td>\n",
       "      <td>11082.00</td>\n",
       "      <td>68081.00</td>\n",
       "      <td>0.0</td>\n",
       "      <td>0.00</td>\n",
       "      <td>22400.0</td>\n",
       "      <td>6520.00</td>\n",
       "      <td>4155.00</td>\n",
       "      <td>0.0</td>\n",
       "      <td>98829.00</td>\n",
       "      <td>35595.0</td>\n",
       "      <td>14200.00</td>\n",
       "      <td>29403.00</td>\n",
       "    </tr>\n",
       "    <tr>\n",
       "      <th>0.75</th>\n",
       "      <td>90000.0</td>\n",
       "      <td>19455.00</td>\n",
       "      <td>198906.00</td>\n",
       "      <td>14733.0</td>\n",
       "      <td>2819.00</td>\n",
       "      <td>38800.0</td>\n",
       "      <td>17701.00</td>\n",
       "      <td>11520.00</td>\n",
       "      <td>0.0</td>\n",
       "      <td>239586.00</td>\n",
       "      <td>60379.0</td>\n",
       "      <td>27000.00</td>\n",
       "      <td>54076.00</td>\n",
       "    </tr>\n",
       "    <tr>\n",
       "      <th>0.99</th>\n",
       "      <td>250000.0</td>\n",
       "      <td>92830.64</td>\n",
       "      <td>656360.16</td>\n",
       "      <td>146526.4</td>\n",
       "      <td>19093.48</td>\n",
       "      <td>149320.0</td>\n",
       "      <td>70574.32</td>\n",
       "      <td>72056.56</td>\n",
       "      <td>0.0</td>\n",
       "      <td>740254.16</td>\n",
       "      <td>230833.4</td>\n",
       "      <td>101574.08</td>\n",
       "      <td>200069.92</td>\n",
       "    </tr>\n",
       "  </tbody>\n",
       "</table>\n",
       "</div>"
      ],
      "text/plain": [
       "      annual_inc  revol_bal  tot_cur_bal  total_bal_il  max_bal_bc  \\\n",
       "0.50     65000.0   11082.00     68081.00           0.0        0.00   \n",
       "0.75     90000.0   19455.00    198906.00       14733.0     2819.00   \n",
       "0.99    250000.0   92830.64    656360.16      146526.4    19093.48   \n",
       "\n",
       "      total_rev_hi_lim  avg_cur_bal  bc_open_to_buy  delinq_amnt  \\\n",
       "0.50           22400.0      6520.00         4155.00          0.0   \n",
       "0.75           38800.0     17701.00        11520.00          0.0   \n",
       "0.99          149320.0     70574.32        72056.56          0.0   \n",
       "\n",
       "      tot_hi_cred_lim  total_bal_ex_mort  total_bc_limit  \\\n",
       "0.50         98829.00            35595.0        14200.00   \n",
       "0.75        239586.00            60379.0        27000.00   \n",
       "0.99        740254.16           230833.4       101574.08   \n",
       "\n",
       "      total_il_high_credit_limit  \n",
       "0.50                    29403.00  \n",
       "0.75                    54076.00  \n",
       "0.99                   200069.92  "
      ]
     },
     "execution_count": 6,
     "metadata": {},
     "output_type": "execute_result"
    }
   ],
   "source": [
    "df[to_explore].quantile([0.5, 0.75, 0.99])"
   ]
  },
  {
   "cell_type": "code",
   "execution_count": 7,
   "metadata": {},
   "outputs": [],
   "source": [
    "for col in to_explore:\n",
    "    df = df[df[col] <= df[col].quantile(0.99)]"
   ]
  },
  {
   "cell_type": "code",
   "execution_count": 8,
   "metadata": {},
   "outputs": [
    {
     "data": {
      "text/plain": [
       "(25471, 87)"
      ]
     },
     "execution_count": 8,
     "metadata": {},
     "output_type": "execute_result"
    }
   ],
   "source": [
    "df.shape"
   ]
  },
  {
   "cell_type": "markdown",
   "metadata": {},
   "source": [
    "## Correlation \n",
    "\n",
    "To get an idea of what sort of features might be useful in prediction, let's take a look at the correlation between the dataframe's numeric columns and the target variable. For ease of sorting we'll take the absolute value: values with higher values indicate a higher (positive or negative) correlation."
   ]
  },
  {
   "cell_type": "code",
   "execution_count": 9,
   "metadata": {},
   "outputs": [
    {
     "data": {
      "text/plain": [
       "target                  1.000000\n",
       "int_rate                0.257432\n",
       "term_months             0.190189\n",
       "all_util                0.109768\n",
       "acc_open_past_24mths    0.103747\n",
       "dti                     0.103631\n",
       "loan_amnt               0.102368\n",
       "open_rv_24m             0.090186\n",
       "il_util                 0.089370\n",
       "num_tl_op_past_12m      0.085427\n",
       "installment             0.084607\n",
       "num_actv_rev_tl         0.082473\n",
       "num_rev_tl_bal_gt_0     0.079428\n",
       "bc_open_to_buy          0.078770\n",
       "percent_bc_gt_75        0.073799\n",
       "open_il_24m             0.073121\n",
       "open_acc_6m             0.069391\n",
       "inq_last_12m            0.069317\n",
       "open_rv_12m             0.068838\n",
       "total_bal_il            0.065720\n",
       "dtype: float64"
      ]
     },
     "execution_count": 9,
     "metadata": {},
     "output_type": "execute_result"
    }
   ],
   "source": [
    "abs(df._get_numeric_data().corrwith(df[\"target\"])).sort_values(ascending = False).head(20)"
   ]
  },
  {
   "cell_type": "markdown",
   "metadata": {},
   "source": [
    "We can see here that there is little correlation between the other numerical columns and our target variable.\n",
    "\n",
    "We have a few more things we can try, though:\n",
    "\n",
    "- Feature engineering based on the correlated variables. We could combine multiple variables (two variables alone may not have a high correlation with the target, but some combination of them may!). \n",
    "\n",
    "- Getting information out of the categorical variables. The method above will only do correlation on numeric columns: there may be some information hiding in our categorical columns that we can use as features, so let's explore that. "
   ]
  },
  {
   "cell_type": "markdown",
   "metadata": {},
   "source": [
    "## Categorical values: proportion defaulted by category\n",
    "\n",
    "Our categorical columns are as follows: grade, sub_grade, home_ownership, verification_status, purpose, addr_state. Let's look at the proportion of default loans per category, to see if we can use this to create features. "
   ]
  },
  {
   "cell_type": "code",
   "execution_count": 10,
   "metadata": {},
   "outputs": [],
   "source": [
    "def prop_by_catg(col, df):\n",
    "    prop_df = df.groupby(col)[\"target\"].value_counts().unstack().reset_index()\n",
    "    prop_df.columns = [col, \"Non-default\", \"Default\"]\n",
    "    prop_df[\"% default\"] = prop_df[\"Default\"] / (prop_df[\"Default\"] + prop_df[\"Non-default\"])\n",
    "    return prop_df\n",
    "\n",
    "def plot_by_catg(col, df):\n",
    "    catg_df = prop_by_catg(col, df)\n",
    "    fig, ax = plt.subplots(figsize=(15, 5))\n",
    "    plt.title(col)\n",
    "    catg_df.set_index(col)[\"% default\"].plot(kind = \"bar\")\n",
    "    "
   ]
  },
  {
   "cell_type": "code",
   "execution_count": 11,
   "metadata": {},
   "outputs": [],
   "source": [
    "catg_columns = [\"grade\", \"sub_grade\", \"home_ownership\", \"verification_status\", \"purpose\", \"addr_state\"]"
   ]
  },
  {
   "cell_type": "code",
   "execution_count": 12,
   "metadata": {},
   "outputs": [
    {
     "data": {
      "image/png": "[encoded data removed]",
      "text/plain": [
       "<matplotlib.figure.Figure at 0x7f935d13a940>"
      ]
     },
     "metadata": {},
     "output_type": "display_data"
    },
    {
     "data": {
      "image/png": "[encoded data removed]",
      "text/plain": [
       "<matplotlib.figure.Figure at 0x7f935d0d5828>"
      ]
     },
     "metadata": {},
     "output_type": "display_data"
    },
    {
     "data": {
      "image/png": "[encoded data removed]",
      "text/plain": [
       "<matplotlib.figure.Figure at 0x7f935d1d3978>"
      ]
     },
     "metadata": {},
     "output_type": "display_data"
    },
    {
     "data": {
      "image/png": "[encoded data removed]",
      "text/plain": [
       "<matplotlib.figure.Figure at 0x7f935d1d3470>"
      ]
     },
     "metadata": {},
     "output_type": "display_data"
    },
    {
     "data": {
      "image/png": "[encoded data removed]",
      "text/plain": [
       "<matplotlib.figure.Figure at 0x7f935ccabb70>"
      ]
     },
     "metadata": {},
     "output_type": "display_data"
    },
    {
     "data": {
      "image/png": "[encoded data removed]",
      "text/plain": [
       "<matplotlib.figure.Figure at 0x7f935cc6dba8>"
      ]
     },
     "metadata": {},
     "output_type": "display_data"
    }
   ],
   "source": [
    "for col in catg_columns:\n",
    "    plot_by_catg(col, df)"
   ]
  },
  {
   "cell_type": "markdown",
   "metadata": {},
   "source": [
    "The key insight from this is that grade (ie. the credit rating) has significant differences in default rates: from <10% for a to >50% for G. Sub-grade exhibits similar behavior, but at a much too granular level. To account for this, let's add three new columns: is_grade_a, is_grade_a_or_b, is_grade_f_or_g. \n",
    "\n",
    "We'll also change verification_status to a boolean flag: is_verified. source_verified and verified have similar default rates, so we'll condense them to one. "
   ]
  },
  {
   "cell_type": "code",
   "execution_count": 13,
   "metadata": {},
   "outputs": [],
   "source": [
    "df[\"is_grade_a\"] = df[\"grade\"].isin([\"A\"])\n",
    "df[\"is_grade_a_or_b\"] = df[\"grade\"].isin([\"A\", \"B\"])\n",
    "df[\"is_grade_f_or_g\"] = df[\"grade\"].isin([\"F\", \"G\"])\n",
    "df[\"is_verified\"] = df[\"verification_status\"] != \"Not Verified\""
   ]
  },
  {
   "cell_type": "code",
   "execution_count": 14,
   "metadata": {},
   "outputs": [
    {
     "data": {
      "text/plain": [
       "is_grade_a        -0.160477\n",
       "is_grade_a_or_b   -0.218957\n",
       "is_grade_f_or_g    0.131172\n",
       "is_verified        0.094627\n",
       "dtype: float64"
      ]
     },
     "execution_count": 14,
     "metadata": {},
     "output_type": "execute_result"
    }
   ],
   "source": [
    "df[[\"is_grade_a\", \"is_grade_a_or_b\", \"is_grade_f_or_g\", \"is_verified\"]].corrwith(df[\"target\"])"
   ]
  },
  {
   "cell_type": "markdown",
   "metadata": {},
   "source": [
    "## More feature engineering\n",
    "\n",
    "Based on the business context, let's add a few more columns that may be useful. "
   ]
  },
  {
   "cell_type": "code",
   "execution_count": 15,
   "metadata": {},
   "outputs": [
    {
     "name": "stdout",
     "output_type": "stream",
     "text": [
      "loan:income_ratio    0.143884\n",
      "dtype: float64\n"
     ]
    },
    {
     "data": {
      "text/plain": [
       "<matplotlib.axes._subplots.AxesSubplot at 0x7f935cce2860>"
      ]
     },
     "execution_count": 15,
     "metadata": {},
     "output_type": "execute_result"
    },
    {
     "data": {
      "image/png": "[encoded data removed]",
      "text/plain": [
       "<matplotlib.figure.Figure at 0x7f935cd0e8d0>"
      ]
     },
     "metadata": {},
     "output_type": "display_data"
    }
   ],
   "source": [
    "df[\"loan:income_ratio\"] = df[\"loan_amnt\"] / df[\"annual_inc\"]\n",
    "print(df[[\"loan:income_ratio\"]].corrwith(df[\"target\"]))\n",
    "sns.violinplot(x = \"target\", y = \"loan:income_ratio\", data = df)"
   ]
  },
  {
   "cell_type": "code",
   "execution_count": null,
   "metadata": {},
   "outputs": [],
   "source": []
  },
  {
   "cell_type": "code",
   "execution_count": null,
   "metadata": {},
   "outputs": [],
   "source": []
  }
 ],
 "metadata": {
  "kernelspec": {
   "display_name": "Python 3",
   "language": "python",
   "name": "python3"
  },
  "language_info": {
   "codemirror_mode": {
    "name": "ipython",
    "version": 3
   },
   "file_extension": ".py",
   "mimetype": "text/x-python",
   "name": "python",
   "nbconvert_exporter": "python",
   "pygments_lexer": "ipython3",
   "version": "3.6.8"
  }
 },
 "nbformat": 4,
 "nbformat_minor": 2
}

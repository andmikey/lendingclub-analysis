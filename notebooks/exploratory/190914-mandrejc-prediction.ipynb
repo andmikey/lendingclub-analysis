{
 "cells": [
  {
   "cell_type": "markdown",
   "metadata": {},
   "source": [
    "# Prediction\n",
    "\n",
    "In this stage, we'll take our cleaned dataset and experiment with different models to predict if a loan will default."
   ]
  },
  {
   "cell_type": "code",
   "execution_count": 8,
   "metadata": {},
   "outputs": [],
   "source": [
    "import pandas as pd\n",
    "from sklearn.model_selection import train_test_split\n",
    "from sklearn.preprocessing import MinMaxScaler"
   ]
  },
  {
   "cell_type": "code",
   "execution_count": 3,
   "metadata": {},
   "outputs": [],
   "source": [
    "df = pd.read_csv(\"../../data/processed/loan_sampled_50000.csv\", \n",
    "                low_memory = False)"
   ]
  },
  {
   "cell_type": "code",
   "execution_count": 4,
   "metadata": {},
   "outputs": [
    {
     "data": {
      "text/html": [
       "<div>\n",
       "<style scoped>\n",
       "    .dataframe tbody tr th:only-of-type {\n",
       "        vertical-align: middle;\n",
       "    }\n",
       "\n",
       "    .dataframe tbody tr th {\n",
       "        vertical-align: top;\n",
       "    }\n",
       "\n",
       "    .dataframe thead th {\n",
       "        text-align: right;\n",
       "    }\n",
       "</style>\n",
       "<table border=\"1\" class=\"dataframe\">\n",
       "  <thead>\n",
       "    <tr style=\"text-align: right;\">\n",
       "      <th></th>\n",
       "      <th>loan_amnt</th>\n",
       "      <th>int_rate</th>\n",
       "      <th>installment</th>\n",
       "      <th>emp_length</th>\n",
       "      <th>annual_inc</th>\n",
       "      <th>dti</th>\n",
       "      <th>delinq_2yrs</th>\n",
       "      <th>inq_last_6mths</th>\n",
       "      <th>open_acc</th>\n",
       "      <th>pub_rec</th>\n",
       "      <th>...</th>\n",
       "      <th>is_payment_plan</th>\n",
       "      <th>is_whole_loan</th>\n",
       "      <th>is_individual_app</th>\n",
       "      <th>term_months</th>\n",
       "      <th>is_cash</th>\n",
       "      <th>is_grade_a</th>\n",
       "      <th>is_grade_a_or_b</th>\n",
       "      <th>is_grade_f_or_g</th>\n",
       "      <th>is_verified</th>\n",
       "      <th>loan:income_ratio</th>\n",
       "    </tr>\n",
       "  </thead>\n",
       "  <tbody>\n",
       "    <tr>\n",
       "      <th>0</th>\n",
       "      <td>6200</td>\n",
       "      <td>10.41</td>\n",
       "      <td>201.26</td>\n",
       "      <td>1.0</td>\n",
       "      <td>62000.0</td>\n",
       "      <td>5.23</td>\n",
       "      <td>0</td>\n",
       "      <td>1</td>\n",
       "      <td>8</td>\n",
       "      <td>0</td>\n",
       "      <td>...</td>\n",
       "      <td>False</td>\n",
       "      <td>True</td>\n",
       "      <td>True</td>\n",
       "      <td>36</td>\n",
       "      <td>True</td>\n",
       "      <td>False</td>\n",
       "      <td>True</td>\n",
       "      <td>False</td>\n",
       "      <td>False</td>\n",
       "      <td>0.100000</td>\n",
       "    </tr>\n",
       "    <tr>\n",
       "      <th>1</th>\n",
       "      <td>19600</td>\n",
       "      <td>25.69</td>\n",
       "      <td>583.25</td>\n",
       "      <td>9.0</td>\n",
       "      <td>110000.0</td>\n",
       "      <td>15.01</td>\n",
       "      <td>0</td>\n",
       "      <td>3</td>\n",
       "      <td>12</td>\n",
       "      <td>1</td>\n",
       "      <td>...</td>\n",
       "      <td>False</td>\n",
       "      <td>False</td>\n",
       "      <td>True</td>\n",
       "      <td>60</td>\n",
       "      <td>True</td>\n",
       "      <td>False</td>\n",
       "      <td>False</td>\n",
       "      <td>True</td>\n",
       "      <td>True</td>\n",
       "      <td>0.178182</td>\n",
       "    </tr>\n",
       "    <tr>\n",
       "      <th>2</th>\n",
       "      <td>16000</td>\n",
       "      <td>11.99</td>\n",
       "      <td>355.84</td>\n",
       "      <td>1.0</td>\n",
       "      <td>60000.0</td>\n",
       "      <td>20.64</td>\n",
       "      <td>1</td>\n",
       "      <td>0</td>\n",
       "      <td>14</td>\n",
       "      <td>0</td>\n",
       "      <td>...</td>\n",
       "      <td>False</td>\n",
       "      <td>True</td>\n",
       "      <td>True</td>\n",
       "      <td>60</td>\n",
       "      <td>True</td>\n",
       "      <td>False</td>\n",
       "      <td>False</td>\n",
       "      <td>False</td>\n",
       "      <td>False</td>\n",
       "      <td>0.266667</td>\n",
       "    </tr>\n",
       "    <tr>\n",
       "      <th>3</th>\n",
       "      <td>16400</td>\n",
       "      <td>15.77</td>\n",
       "      <td>574.72</td>\n",
       "      <td>3.0</td>\n",
       "      <td>41000.0</td>\n",
       "      <td>4.51</td>\n",
       "      <td>0</td>\n",
       "      <td>3</td>\n",
       "      <td>4</td>\n",
       "      <td>0</td>\n",
       "      <td>...</td>\n",
       "      <td>False</td>\n",
       "      <td>True</td>\n",
       "      <td>True</td>\n",
       "      <td>36</td>\n",
       "      <td>True</td>\n",
       "      <td>False</td>\n",
       "      <td>False</td>\n",
       "      <td>False</td>\n",
       "      <td>False</td>\n",
       "      <td>0.400000</td>\n",
       "    </tr>\n",
       "    <tr>\n",
       "      <th>4</th>\n",
       "      <td>7100</td>\n",
       "      <td>14.49</td>\n",
       "      <td>244.36</td>\n",
       "      <td>2.0</td>\n",
       "      <td>24000.0</td>\n",
       "      <td>25.35</td>\n",
       "      <td>0</td>\n",
       "      <td>2</td>\n",
       "      <td>8</td>\n",
       "      <td>0</td>\n",
       "      <td>...</td>\n",
       "      <td>False</td>\n",
       "      <td>False</td>\n",
       "      <td>True</td>\n",
       "      <td>36</td>\n",
       "      <td>True</td>\n",
       "      <td>False</td>\n",
       "      <td>False</td>\n",
       "      <td>False</td>\n",
       "      <td>True</td>\n",
       "      <td>0.295833</td>\n",
       "    </tr>\n",
       "  </tbody>\n",
       "</table>\n",
       "<p>5 rows × 83 columns</p>\n",
       "</div>"
      ],
      "text/plain": [
       "   loan_amnt  int_rate  installment  emp_length  annual_inc    dti  \\\n",
       "0       6200     10.41       201.26         1.0     62000.0   5.23   \n",
       "1      19600     25.69       583.25         9.0    110000.0  15.01   \n",
       "2      16000     11.99       355.84         1.0     60000.0  20.64   \n",
       "3      16400     15.77       574.72         3.0     41000.0   4.51   \n",
       "4       7100     14.49       244.36         2.0     24000.0  25.35   \n",
       "\n",
       "   delinq_2yrs  inq_last_6mths  open_acc  pub_rec        ...          \\\n",
       "0            0               1         8        0        ...           \n",
       "1            0               3        12        1        ...           \n",
       "2            1               0        14        0        ...           \n",
       "3            0               3         4        0        ...           \n",
       "4            0               2         8        0        ...           \n",
       "\n",
       "   is_payment_plan  is_whole_loan  is_individual_app  term_months  is_cash  \\\n",
       "0            False           True               True           36     True   \n",
       "1            False          False               True           60     True   \n",
       "2            False           True               True           60     True   \n",
       "3            False           True               True           36     True   \n",
       "4            False          False               True           36     True   \n",
       "\n",
       "   is_grade_a  is_grade_a_or_b  is_grade_f_or_g  is_verified  \\\n",
       "0       False             True            False        False   \n",
       "1       False            False             True         True   \n",
       "2       False            False            False        False   \n",
       "3       False            False            False        False   \n",
       "4       False            False            False         True   \n",
       "\n",
       "   loan:income_ratio  \n",
       "0           0.100000  \n",
       "1           0.178182  \n",
       "2           0.266667  \n",
       "3           0.400000  \n",
       "4           0.295833  \n",
       "\n",
       "[5 rows x 83 columns]"
      ]
     },
     "execution_count": 4,
     "metadata": {},
     "output_type": "execute_result"
    }
   ],
   "source": [
    "df.head()"
   ]
  },
  {
   "cell_type": "markdown",
   "metadata": {},
   "source": [
    "## Train-test split and normalization\n",
    "\n",
    "We plit our data into a train set and a test set, then normalise each set independently. By removing outliers in the data processing step we can be confident that the normalisation step is not being skewed by outliers. \n"
   ]
  },
  {
   "cell_type": "code",
   "execution_count": 51,
   "metadata": {},
   "outputs": [],
   "source": [
    "X = df.drop(columns = [\"target\"])\n",
    "y = df[\"target\"]"
   ]
  },
  {
   "cell_type": "code",
   "execution_count": 52,
   "metadata": {},
   "outputs": [
    {
     "name": "stdout",
     "output_type": "stream",
     "text": [
      "Train size: (19103, 82)\n",
      "Test size: (6368, 82)\n"
     ]
    }
   ],
   "source": [
    "X_train_orig, X_test_orig, y_train, y_test = train_test_split(X, y, \n",
    "                                                   random_state = 10)\n",
    "print(f\"Train size: {X_train.shape}\\nTest size: {X_test.shape}\")"
   ]
  },
  {
   "cell_type": "code",
   "execution_count": 53,
   "metadata": {},
   "outputs": [
    {
     "name": "stderr",
     "output_type": "stream",
     "text": [
      "/home/mikey/.local/lib/python3.6/site-packages/sklearn/utils/validation.py:475: DataConversionWarning: Data with input dtype object was converted to float64 by MinMaxScaler.\n",
      "  warnings.warn(msg, DataConversionWarning)\n"
     ]
    }
   ],
   "source": [
    "scaler = MinMaxScaler()\n",
    "X_train = pd.DataFrame(scaler.fit_transform(X_train_orig.values), \n",
    "                       columns=X_train_orig.columns, index=X_train_orig.index)"
   ]
  },
  {
   "cell_type": "code",
   "execution_count": 54,
   "metadata": {},
   "outputs": [
    {
     "name": "stderr",
     "output_type": "stream",
     "text": [
      "/home/mikey/.local/lib/python3.6/site-packages/sklearn/utils/validation.py:475: DataConversionWarning: Data with input dtype object was converted to float64 by MinMaxScaler.\n",
      "  warnings.warn(msg, DataConversionWarning)\n"
     ]
    }
   ],
   "source": [
    "scaler = MinMaxScaler()\n",
    "X_test = pd.DataFrame(scaler.fit_transform(X_test_orig.values), \n",
    "                       columns=X_test_orig.columns, index=X_test_orig.index)"
   ]
  },
  {
   "cell_type": "markdown",
   "metadata": {},
   "source": [
    "We notice that there is a class imbalance in our training set, as with our orginal dataset. While this does likely reflect the business context - it is more likely that a loan will not be defaulted on - we want to ensure that our models are not biased by way of the training data containing more examples of one class. \n",
    "\n",
    "We can take two resampling approaches to deal with this class imbalance problem:\n",
    "\n",
    "- Oversampling the minority class\n",
    "\n",
    "- Undersampling the majority class\n",
    "\n",
    "There is a good discussion of approaches here: https://www.kaggle.com/rafjaa/resampling-strategies-for-imbalanced-datasets. For simplicity, I will run the models on two datasets: the original training data, and an undersampled dataset (created by randomly removing instances of the majority class until the dataset is balanced. "
   ]
  },
  {
   "cell_type": "code",
   "execution_count": 55,
   "metadata": {},
   "outputs": [
    {
     "data": {
      "text/plain": [
       "False    15011\n",
       "True      4092\n",
       "Name: target, dtype: int64"
      ]
     },
     "execution_count": 55,
     "metadata": {},
     "output_type": "execute_result"
    }
   ],
   "source": [
    "y_train.value_counts()"
   ]
  },
  {
   "cell_type": "code",
   "execution_count": 59,
   "metadata": {},
   "outputs": [
    {
     "name": "stdout",
     "output_type": "stream",
     "text": [
      "True     4092\n",
      "False    4092\n",
      "Name: target, dtype: int64\n"
     ]
    },
    {
     "name": "stderr",
     "output_type": "stream",
     "text": [
      "/home/mikey/.local/lib/python3.6/site-packages/sklearn/utils/validation.py:475: DataConversionWarning: Data with input dtype object was converted to float64 by MinMaxScaler.\n",
      "  warnings.warn(msg, DataConversionWarning)\n"
     ]
    }
   ],
   "source": [
    "df_train = pd.concat([X_train_orig, y_train], axis = 1)\n",
    "count_class_0, count_class_1 = df_train.target.value_counts()\n",
    "df_class_0 = df_train[df_train['target'] == 0]\n",
    "df_class_1 = df_train[df_train['target'] == 1]\n",
    "df_class_0_under = df_class_0.sample(count_class_1)\n",
    "df_test_under = pd.concat([df_class_0_under, df_class_1], axis=0)\n",
    "\n",
    "print(df_test_under.target.value_counts())\n",
    "X_train_under = df_test_under.drop(columns=[\"target\"])\n",
    "y_train_under = df_test_under[\"target\"]\n",
    "\n",
    "scaler = MinMaxScaler()\n",
    "X_train_under = pd.DataFrame(scaler.fit_transform(X_train_under.values), \n",
    "                       columns=X_train_under.columns, index=X_train_under.index)"
   ]
  },
  {
   "cell_type": "markdown",
   "metadata": {},
   "source": [
    "## Model testing\n",
    "\n",
    "We're going to try the following models:\n",
    "\n",
    "- Logistic regression\n",
    "\n",
    "- Decision trees\n",
    "\n",
    "- SVM\n",
    "\n",
    "- Naive Bayes\n",
    "\n",
    "- Random forest\n",
    "\n",
    "- Linear SVC\n",
    "\n",
    "To evaluate our models, we'll consider the following metrics:\n",
    "\n",
    "- Confusion matrix\n",
    "\n",
    "- Accuracy, precision, and recall\n",
    "\n",
    "- ROC and AUC "
   ]
  },
  {
   "cell_type": "code",
   "execution_count": null,
   "metadata": {},
   "outputs": [],
   "source": []
  }
 ],
 "metadata": {
  "kernelspec": {
   "display_name": "Python 3",
   "language": "python",
   "name": "python3"
  },
  "language_info": {
   "codemirror_mode": {
    "name": "ipython",
    "version": 3
   },
   "file_extension": ".py",
   "mimetype": "text/x-python",
   "name": "python",
   "nbconvert_exporter": "python",
   "pygments_lexer": "ipython3",
   "version": "3.6.8"
  }
 },
 "nbformat": 4,
 "nbformat_minor": 2
}
